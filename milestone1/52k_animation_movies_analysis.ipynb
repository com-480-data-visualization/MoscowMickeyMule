{
 "cells": [
  {
   "cell_type": "code",
   "execution_count": 2,
   "id": "328b4d03-9797-4950-a903-544b5702eb31",
   "metadata": {},
   "outputs": [],
   "source": [
    "import pandas as pd\n",
    "import numpy as np\n",
    "import seaborn as sns\n",
    "import matplotlib.pyplot as plt"
   ]
  },
  {
   "cell_type": "markdown",
   "id": "45c6a45a-8f97-41df-b155-20fefd5729d4",
   "metadata": {},
   "source": [
    "**Exploratory Analysis of Animation Studio Dataset**\n"
   ]
  },
  {
   "cell_type": "code",
   "execution_count": 9,
   "id": "699078c1-f67a-4099-b8c2-7506b8f362a7",
   "metadata": {},
   "outputs": [],
   "source": [
    "df = pd.read_csv(\"data/Animation_Movies.csv\")"
   ]
  },
  {
   "cell_type": "code",
   "execution_count": 10,
   "id": "b36e9d75",
   "metadata": {},
   "outputs": [
    {
     "data": {
      "text/plain": [
       "0               United States of America\n",
       "1               United States of America\n",
       "2               United States of America\n",
       "3               United States of America\n",
       "4               United States of America\n",
       "                      ...               \n",
       "51937           United States of America\n",
       "51939                          Argentina\n",
       "51940                             Russia\n",
       "51941                              Japan\n",
       "51944    Bosnia and Herzegovina, Croatia\n",
       "Name: production_countries, Length: 39700, dtype: object"
      ]
     },
     "execution_count": 10,
     "metadata": {},
     "output_type": "execute_result"
    }
   ],
   "source": [
    "df_clean = df[df[\"production_countries\"].notnull()]\n",
    "df_clean[\"production_countries\"]"
   ]
  },
  {
   "cell_type": "code",
   "execution_count": 11,
   "id": "e206f494",
   "metadata": {},
   "outputs": [
    {
     "data": {
      "text/plain": [
       "Index(['id', 'title', 'vote_average', 'vote_count', 'status', 'release_date',\n",
       "       'revenue', 'runtime', 'adult', 'backdrop_path', 'budget', 'homepage',\n",
       "       'imdb_id', 'original_language', 'original_title', 'overview',\n",
       "       'popularity', 'poster_path', 'tagline', 'genres',\n",
       "       'production_companies', 'production_countries', 'spoken_languages'],\n",
       "      dtype='object')"
      ]
     },
     "execution_count": 11,
     "metadata": {},
     "output_type": "execute_result"
    }
   ],
   "source": [
    "df.columns"
   ]
  },
  {
   "cell_type": "code",
   "execution_count": 19,
   "id": "e36b0cbb",
   "metadata": {},
   "outputs": [
    {
     "name": "stderr",
     "output_type": "stream",
     "text": [
      "/var/folders/67/6c4p9l3d6gz7mdpq5tr7rk7w0000gn/T/ipykernel_76254/3134568996.py:5: SettingWithCopyWarning: \n",
      "A value is trying to be set on a copy of a slice from a DataFrame.\n",
      "Try using .loc[row_indexer,col_indexer] = value instead\n",
      "\n",
      "See the caveats in the documentation: https://pandas.pydata.org/pandas-docs/stable/user_guide/indexing.html#returning-a-view-versus-a-copy\n",
      "  df_selected[\"release_date\"] = pd.to_datetime(df_selected[\"release_date\"], errors='coerce')\n"
     ]
    },
    {
     "data": {
      "text/html": [
       "<div>\n",
       "<style scoped>\n",
       "    .dataframe tbody tr th:only-of-type {\n",
       "        vertical-align: middle;\n",
       "    }\n",
       "\n",
       "    .dataframe tbody tr th {\n",
       "        vertical-align: top;\n",
       "    }\n",
       "\n",
       "    .dataframe thead th {\n",
       "        text-align: right;\n",
       "    }\n",
       "</style>\n",
       "<table border=\"1\" class=\"dataframe\">\n",
       "  <thead>\n",
       "    <tr style=\"text-align: right;\">\n",
       "      <th></th>\n",
       "      <th>Country</th>\n",
       "      <th>Year</th>\n",
       "      <th>MovieCount</th>\n",
       "      <th>MovieList</th>\n",
       "      <th>lat</th>\n",
       "      <th>lon</th>\n",
       "    </tr>\n",
       "  </thead>\n",
       "  <tbody>\n",
       "    <tr>\n",
       "      <th>0</th>\n",
       "      <td>Afghanistan</td>\n",
       "      <td>1953</td>\n",
       "      <td>1</td>\n",
       "      <td>[Hello Paris]</td>\n",
       "      <td>33.768006</td>\n",
       "      <td>66.238514</td>\n",
       "    </tr>\n",
       "    <tr>\n",
       "      <th>1</th>\n",
       "      <td>Afghanistan</td>\n",
       "      <td>2011</td>\n",
       "      <td>1</td>\n",
       "      <td>[Buz-e-Chini]</td>\n",
       "      <td>33.768006</td>\n",
       "      <td>66.238514</td>\n",
       "    </tr>\n",
       "    <tr>\n",
       "      <th>2</th>\n",
       "      <td>Albania</td>\n",
       "      <td>1975</td>\n",
       "      <td>2</td>\n",
       "      <td>[Zana and Miri, The Goose Maid]</td>\n",
       "      <td>5.758765</td>\n",
       "      <td>-73.915162</td>\n",
       "    </tr>\n",
       "    <tr>\n",
       "      <th>3</th>\n",
       "      <td>Albania</td>\n",
       "      <td>1976</td>\n",
       "      <td>2</td>\n",
       "      <td>[Majlinda and the Little Bird, The Ear of Wheat]</td>\n",
       "      <td>5.758765</td>\n",
       "      <td>-73.915162</td>\n",
       "    </tr>\n",
       "    <tr>\n",
       "      <th>4</th>\n",
       "      <td>Albania</td>\n",
       "      <td>1985</td>\n",
       "      <td>1</td>\n",
       "      <td>[Headshoot]</td>\n",
       "      <td>5.758765</td>\n",
       "      <td>-73.915162</td>\n",
       "    </tr>\n",
       "    <tr>\n",
       "      <th>...</th>\n",
       "      <td>...</td>\n",
       "      <td>...</td>\n",
       "      <td>...</td>\n",
       "      <td>...</td>\n",
       "      <td>...</td>\n",
       "      <td>...</td>\n",
       "    </tr>\n",
       "    <tr>\n",
       "      <th>3210</th>\n",
       "      <td>Yugoslavia</td>\n",
       "      <td>1997</td>\n",
       "      <td>1</td>\n",
       "      <td>[Sic transit gloria]</td>\n",
       "      <td>23.041237</td>\n",
       "      <td>-81.526142</td>\n",
       "    </tr>\n",
       "    <tr>\n",
       "      <th>3211</th>\n",
       "      <td>Yugoslavia</td>\n",
       "      <td>2000</td>\n",
       "      <td>1</td>\n",
       "      <td>[Film with a Girl]</td>\n",
       "      <td>23.041237</td>\n",
       "      <td>-81.526142</td>\n",
       "    </tr>\n",
       "    <tr>\n",
       "      <th>3212</th>\n",
       "      <td>Zimbabwe</td>\n",
       "      <td>2003</td>\n",
       "      <td>1</td>\n",
       "      <td>[The Legend of the Sky Kingdom]</td>\n",
       "      <td>-18.455496</td>\n",
       "      <td>29.746841</td>\n",
       "    </tr>\n",
       "    <tr>\n",
       "      <th>3213</th>\n",
       "      <td>Zimbabwe</td>\n",
       "      <td>2013</td>\n",
       "      <td>1</td>\n",
       "      <td>[The Time Is... Now]</td>\n",
       "      <td>-18.455496</td>\n",
       "      <td>29.746841</td>\n",
       "    </tr>\n",
       "    <tr>\n",
       "      <th>3214</th>\n",
       "      <td>Zimbabwe</td>\n",
       "      <td>2017</td>\n",
       "      <td>1</td>\n",
       "      <td>[Tales of Shaa - Umi and Nandi's Adventure]</td>\n",
       "      <td>-18.455496</td>\n",
       "      <td>29.746841</td>\n",
       "    </tr>\n",
       "  </tbody>\n",
       "</table>\n",
       "<p>3215 rows × 6 columns</p>\n",
       "</div>"
      ],
      "text/plain": [
       "          Country  Year  MovieCount  \\\n",
       "0     Afghanistan  1953           1   \n",
       "1     Afghanistan  2011           1   \n",
       "2         Albania  1975           2   \n",
       "3         Albania  1976           2   \n",
       "4         Albania  1985           1   \n",
       "...           ...   ...         ...   \n",
       "3210   Yugoslavia  1997           1   \n",
       "3211   Yugoslavia  2000           1   \n",
       "3212     Zimbabwe  2003           1   \n",
       "3213     Zimbabwe  2013           1   \n",
       "3214     Zimbabwe  2017           1   \n",
       "\n",
       "                                             MovieList        lat        lon  \n",
       "0                                        [Hello Paris]  33.768006  66.238514  \n",
       "1                                        [Buz-e-Chini]  33.768006  66.238514  \n",
       "2                      [Zana and Miri, The Goose Maid]   5.758765 -73.915162  \n",
       "3     [Majlinda and the Little Bird, The Ear of Wheat]   5.758765 -73.915162  \n",
       "4                                          [Headshoot]   5.758765 -73.915162  \n",
       "...                                                ...        ...        ...  \n",
       "3210                              [Sic transit gloria]  23.041237 -81.526142  \n",
       "3211                                [Film with a Girl]  23.041237 -81.526142  \n",
       "3212                   [The Legend of the Sky Kingdom] -18.455496  29.746841  \n",
       "3213                              [The Time Is... Now] -18.455496  29.746841  \n",
       "3214       [Tales of Shaa - Umi and Nandi's Adventure] -18.455496  29.746841  \n",
       "\n",
       "[3215 rows x 6 columns]"
      ]
     },
     "execution_count": 19,
     "metadata": {},
     "output_type": "execute_result"
    }
   ],
   "source": [
    "from geopy.geocoders import Nominatim\n",
    "from time import sleep\n",
    "\n",
    "df_selected = df_clean[[\"title\", \"production_countries\", \"release_date\", \"production_companies\"]]\n",
    "df_selected[\"release_date\"] = pd.to_datetime(df_selected[\"release_date\"], errors='coerce')\n",
    "df_selected = df_selected.dropna(subset=[\"release_date\"])\n",
    "df_selected[\"year\"] = df_selected[\"release_date\"].dt.year\n",
    "df_selected[\"production_countries\"] = df_selected[\"production_countries\"].str.split(\",\")\n",
    "df_selected = df_selected.explode(\"production_countries\")\n",
    "df_selected[\"production_countries\"] = df_selected[\"production_countries\"].str.strip()\n",
    "\n",
    "country_year_group = df_selected.groupby(['production_countries', 'year']).agg(\n",
    "    MovieCount=('title', 'count'),\n",
    "    MovieList=('title', list)\n",
    ").reset_index()\n",
    "\n",
    "country_year_group.rename(columns={'production_countries': 'Country', 'year': 'Year'}, inplace=True)\n",
    "country_year_group\n",
    "\n",
    "unique_countries = country_year_group[\"Country\"].drop_duplicates().to_frame()\n",
    "\n",
    "geolocator = Nominatim(user_agent=\"animation_map\")\n",
    "latitudes = []\n",
    "longitudes = []\n",
    "\n",
    "for country in unique_countries[\"Country\"]:\n",
    "    try:\n",
    "        location = geolocator.geocode(country)\n",
    "        if location:\n",
    "            latitudes.append(location.latitude)\n",
    "            longitudes.append(location.longitude)\n",
    "        else:\n",
    "            latitudes.append(None)\n",
    "            longitudes.append(None)\n",
    "    except Exception:\n",
    "        latitudes.append(None)\n",
    "        longitudes.append(None)\n",
    "    sleep(1)\n",
    "\n",
    "unique_countries[\"lat\"] = latitudes\n",
    "unique_countries[\"lon\"] = longitudes\n",
    "\n",
    "country_year_group = country_year_group.merge(unique_countries, left_on=\"Country\", right_on=\"Country\", how=\"left\")\n",
    "country_year_group = country_year_group.dropna(subset=[\"lat\", \"lon\"])\n",
    "country_year_group"
   ]
  },
  {
   "cell_type": "code",
   "execution_count": 20,
   "id": "15741a7d",
   "metadata": {},
   "outputs": [],
   "source": [
    "country_year_group.to_csv(\"/Users/bina/MoscowMickeyMule/data/movie_countries.csv\", index=False)"
   ]
  },
  {
   "cell_type": "code",
   "execution_count": 12,
   "id": "1632b339-2440-4218-8761-4c931b34d3b3",
   "metadata": {},
   "outputs": [
    {
     "data": {
      "text/html": [
       "<div>\n",
       "<style scoped>\n",
       "    .dataframe tbody tr th:only-of-type {\n",
       "        vertical-align: middle;\n",
       "    }\n",
       "\n",
       "    .dataframe tbody tr th {\n",
       "        vertical-align: top;\n",
       "    }\n",
       "\n",
       "    .dataframe thead th {\n",
       "        text-align: right;\n",
       "    }\n",
       "</style>\n",
       "<table border=\"1\" class=\"dataframe\">\n",
       "  <thead>\n",
       "    <tr style=\"text-align: right;\">\n",
       "      <th></th>\n",
       "      <th>id</th>\n",
       "      <th>title</th>\n",
       "      <th>vote_average</th>\n",
       "      <th>vote_count</th>\n",
       "      <th>status</th>\n",
       "      <th>release_date</th>\n",
       "      <th>revenue</th>\n",
       "      <th>runtime</th>\n",
       "      <th>adult</th>\n",
       "      <th>backdrop_path</th>\n",
       "      <th>...</th>\n",
       "      <th>original_language</th>\n",
       "      <th>original_title</th>\n",
       "      <th>overview</th>\n",
       "      <th>popularity</th>\n",
       "      <th>poster_path</th>\n",
       "      <th>tagline</th>\n",
       "      <th>genres</th>\n",
       "      <th>production_companies</th>\n",
       "      <th>production_countries</th>\n",
       "      <th>spoken_languages</th>\n",
       "    </tr>\n",
       "  </thead>\n",
       "  <tbody>\n",
       "    <tr>\n",
       "      <th>0</th>\n",
       "      <td>150540</td>\n",
       "      <td>Inside Out</td>\n",
       "      <td>7.922</td>\n",
       "      <td>19463</td>\n",
       "      <td>Released</td>\n",
       "      <td>2015-06-09</td>\n",
       "      <td>857611174</td>\n",
       "      <td>95</td>\n",
       "      <td>False</td>\n",
       "      <td>/j29ekbcLpBvxnGk6LjdTc2EI5SA.jpg</td>\n",
       "      <td>...</td>\n",
       "      <td>en</td>\n",
       "      <td>Inside Out</td>\n",
       "      <td>Growing up can be a bumpy road, and it's no ex...</td>\n",
       "      <td>107.292</td>\n",
       "      <td>/2H1TmgdfNtsKlU9jKdeNyYL5y8T.jpg</td>\n",
       "      <td>Meet the little voices inside your head.</td>\n",
       "      <td>Animation, Family, Adventure, Drama, Comedy</td>\n",
       "      <td>Pixar, Walt Disney Pictures</td>\n",
       "      <td>United States of America</td>\n",
       "      <td>English</td>\n",
       "    </tr>\n",
       "  </tbody>\n",
       "</table>\n",
       "<p>1 rows × 23 columns</p>\n",
       "</div>"
      ],
      "text/plain": [
       "       id       title  vote_average  vote_count    status release_date  \\\n",
       "0  150540  Inside Out         7.922       19463  Released   2015-06-09   \n",
       "\n",
       "     revenue  runtime  adult                     backdrop_path  ...  \\\n",
       "0  857611174       95  False  /j29ekbcLpBvxnGk6LjdTc2EI5SA.jpg  ...   \n",
       "\n",
       "   original_language original_title  \\\n",
       "0                 en     Inside Out   \n",
       "\n",
       "                                            overview popularity  \\\n",
       "0  Growing up can be a bumpy road, and it's no ex...    107.292   \n",
       "\n",
       "                        poster_path                                   tagline  \\\n",
       "0  /2H1TmgdfNtsKlU9jKdeNyYL5y8T.jpg  Meet the little voices inside your head.   \n",
       "\n",
       "                                        genres         production_companies  \\\n",
       "0  Animation, Family, Adventure, Drama, Comedy  Pixar, Walt Disney Pictures   \n",
       "\n",
       "       production_countries spoken_languages  \n",
       "0  United States of America          English  \n",
       "\n",
       "[1 rows x 23 columns]"
      ]
     },
     "execution_count": 12,
     "metadata": {},
     "output_type": "execute_result"
    }
   ],
   "source": [
    "df.head(1)"
   ]
  },
  {
   "cell_type": "code",
   "execution_count": null,
   "id": "ce3a4693",
   "metadata": {},
   "outputs": [],
   "source": []
  },
  {
   "cell_type": "code",
   "execution_count": 13,
   "id": "5bddbe71-c544-49ef-a809-03f687766e8d",
   "metadata": {},
   "outputs": [
    {
     "data": {
      "text/plain": [
       "51945"
      ]
     },
     "execution_count": 13,
     "metadata": {},
     "output_type": "execute_result"
    }
   ],
   "source": [
    "len(df)"
   ]
  },
  {
   "cell_type": "code",
   "execution_count": 14,
   "id": "b7717481-b8a2-45a9-857f-36a2cb64e2fe",
   "metadata": {},
   "outputs": [
    {
     "data": {
      "text/plain": [
       "(51945, 23)"
      ]
     },
     "execution_count": 14,
     "metadata": {},
     "output_type": "execute_result"
    }
   ],
   "source": [
    "df.shape"
   ]
  },
  {
   "cell_type": "code",
   "execution_count": 15,
   "id": "3238211d-1029-4586-a92d-e7cc2d29ceaf",
   "metadata": {},
   "outputs": [
    {
     "data": {
      "text/plain": [
       "Index(['id', 'title', 'vote_average', 'vote_count', 'status', 'release_date',\n",
       "       'revenue', 'runtime', 'adult', 'backdrop_path', 'budget', 'homepage',\n",
       "       'imdb_id', 'original_language', 'original_title', 'overview',\n",
       "       'popularity', 'poster_path', 'tagline', 'genres',\n",
       "       'production_companies', 'production_countries', 'spoken_languages'],\n",
       "      dtype='object')"
      ]
     },
     "execution_count": 15,
     "metadata": {},
     "output_type": "execute_result"
    }
   ],
   "source": [
    "df.columns"
   ]
  },
  {
   "cell_type": "markdown",
   "id": "de1dd2e7-b2df-4834-8369-2a6bbc099c4c",
   "metadata": {},
   "source": [
    "**Basic Statistics**\n"
   ]
  },
  {
   "cell_type": "code",
   "execution_count": 16,
   "id": "3f0c1bba-5706-4a1a-9569-8271bfe6820c",
   "metadata": {},
   "outputs": [
    {
     "name": "stdout",
     "output_type": "stream",
     "text": [
      "Basic Statistics:\n",
      "                  id                   title  vote_average    vote_count  \\\n",
      "count   5.194500e+04                   51944  51945.000000  51945.000000   \n",
      "unique           NaN                   49381           NaN           NaN   \n",
      "top              NaN  Little Red Riding Hood           NaN           NaN   \n",
      "freq             NaN                      15           NaN           NaN   \n",
      "mean    6.188122e+05                     NaN      2.597083     40.395380   \n",
      "std     3.479748e+05                     NaN      3.318748    482.705948   \n",
      "min     1.200000e+01                     NaN      0.000000      0.000000   \n",
      "25%     3.300810e+05                     NaN      0.000000      0.000000   \n",
      "50%     6.119150e+05                     NaN      0.000000      0.000000   \n",
      "75%     9.159040e+05                     NaN      6.000000      2.000000   \n",
      "max     1.238314e+06                     NaN     10.000000  19463.000000   \n",
      "\n",
      "          status release_date       revenue       runtime  adult  \\\n",
      "count      51945        49808  5.194500e+04  51945.000000  51945   \n",
      "unique         6        16893           NaN           NaN      2   \n",
      "top     Released   2017-01-01           NaN           NaN  False   \n",
      "freq       51134          291           NaN           NaN  51719   \n",
      "mean         NaN          NaN  1.863464e+06     20.901415    NaN   \n",
      "std          NaN          NaN  3.049824e+07     39.016002    NaN   \n",
      "min          NaN          NaN  0.000000e+00      0.000000    NaN   \n",
      "25%          NaN          NaN  0.000000e+00      3.000000    NaN   \n",
      "50%          NaN          NaN  0.000000e+00      7.000000    NaN   \n",
      "75%          NaN          NaN  0.000000e+00     19.000000    NaN   \n",
      "max          NaN          NaN  1.450027e+09   3720.000000    NaN   \n",
      "\n",
      "                           backdrop_path  ...  original_language  \\\n",
      "count                              15835  ...              51945   \n",
      "unique                             15731  ...                102   \n",
      "top     /7tFOLDhZqKPactVlGfdjgVmYnlu.jpg  ...                 en   \n",
      "freq                                  17  ...              28584   \n",
      "mean                                 NaN  ...                NaN   \n",
      "std                                  NaN  ...                NaN   \n",
      "min                                  NaN  ...                NaN   \n",
      "25%                                  NaN  ...                NaN   \n",
      "50%                                  NaN  ...                NaN   \n",
      "75%                                  NaN  ...                NaN   \n",
      "max                                  NaN  ...                NaN   \n",
      "\n",
      "       original_title                         overview    popularity  \\\n",
      "count           51944                            45866  51945.000000   \n",
      "unique          50318                            44907           NaN   \n",
      "top     Metamorphosis  An Aesop’s Film Fables cartoon.           NaN   \n",
      "freq                9                               71           NaN   \n",
      "mean              NaN                              NaN      1.886233   \n",
      "std               NaN                              NaN      9.700913   \n",
      "min               NaN                              NaN      0.000000   \n",
      "25%               NaN                              NaN      0.600000   \n",
      "50%               NaN                              NaN      0.600000   \n",
      "75%               NaN                              NaN      0.882000   \n",
      "max               NaN                              NaN   1008.942000   \n",
      "\n",
      "                             poster_path          tagline     genres  \\\n",
      "count                              37934             4678      51945   \n",
      "unique                             37819             4451       2649   \n",
      "top     /tVRb7CCGuru9RdG1ikGFCceuegy.jpg  animation short  Animation   \n",
      "freq                                  12              104      28393   \n",
      "mean                                 NaN              NaN        NaN   \n",
      "std                                  NaN              NaN        NaN   \n",
      "min                                  NaN              NaN        NaN   \n",
      "25%                                  NaN              NaN        NaN   \n",
      "50%                                  NaN              NaN        NaN   \n",
      "75%                                  NaN              NaN        NaN   \n",
      "max                                  NaN              NaN        NaN   \n",
      "\n",
      "       production_companies      production_countries spoken_languages  \n",
      "count                 29398                     39700            33818  \n",
      "unique                11196                      1096              617  \n",
      "top               ONF | NFB  United States of America          English  \n",
      "freq                    717                     12836            12005  \n",
      "mean                    NaN                       NaN              NaN  \n",
      "std                     NaN                       NaN              NaN  \n",
      "min                     NaN                       NaN              NaN  \n",
      "25%                     NaN                       NaN              NaN  \n",
      "50%                     NaN                       NaN              NaN  \n",
      "75%                     NaN                       NaN              NaN  \n",
      "max                     NaN                       NaN              NaN  \n",
      "\n",
      "[11 rows x 23 columns]\n"
     ]
    }
   ],
   "source": [
    "print(\"Basic Statistics:\")\n",
    "print(df.describe(include='all'))"
   ]
  },
  {
   "cell_type": "code",
   "execution_count": 17,
   "id": "9db5dea7-3514-44e8-b583-0b32dddfd105",
   "metadata": {},
   "outputs": [
    {
     "name": "stdout",
     "output_type": "stream",
     "text": [
      "\n",
      "Missing Values:\n",
      "id                          0\n",
      "title                       1\n",
      "vote_average                0\n",
      "vote_count                  0\n",
      "status                      0\n",
      "release_date             2137\n",
      "revenue                     0\n",
      "runtime                     0\n",
      "adult                       0\n",
      "backdrop_path           36110\n",
      "budget                      0\n",
      "homepage                43692\n",
      "imdb_id                 22393\n",
      "original_language           0\n",
      "original_title              1\n",
      "overview                 6079\n",
      "popularity                  0\n",
      "poster_path             14011\n",
      "tagline                 47267\n",
      "genres                      0\n",
      "production_companies    22547\n",
      "production_countries    12245\n",
      "spoken_languages        18127\n",
      "dtype: int64\n"
     ]
    }
   ],
   "source": [
    "# Check for missing values in each column\n",
    "print(\"\\nMissing Values:\")\n",
    "print(df.isnull().sum())"
   ]
  },
  {
   "cell_type": "code",
   "execution_count": 18,
   "id": "0dbcec9a-6069-4636-aed0-bca1dfcbc9a2",
   "metadata": {},
   "outputs": [
    {
     "data": {
      "text/plain": [
       "0"
      ]
     },
     "execution_count": 18,
     "metadata": {},
     "output_type": "execute_result"
    }
   ],
   "source": [
    "df[\"budget\"].iloc[-1]"
   ]
  },
  {
   "cell_type": "code",
   "execution_count": 19,
   "id": "51f32c21-ef51-468e-9d89-8337db7c0149",
   "metadata": {},
   "outputs": [
    {
     "data": {
      "text/plain": [
       "numpy.int64"
      ]
     },
     "execution_count": 19,
     "metadata": {},
     "output_type": "execute_result"
    }
   ],
   "source": [
    "type(df[\"budget\"].iloc[-1])"
   ]
  },
  {
   "cell_type": "code",
   "execution_count": 20,
   "id": "570367e9-373f-48e8-a3cc-8b6e8152a731",
   "metadata": {},
   "outputs": [
    {
     "data": {
      "text/plain": [
       "50342"
      ]
     },
     "execution_count": 20,
     "metadata": {},
     "output_type": "execute_result"
    }
   ],
   "source": [
    "zero_count = (df[\"budget\"] == 0).sum()\n",
    "zero_count"
   ]
  },
  {
   "cell_type": "code",
   "execution_count": 21,
   "id": "333e30b7-d69c-460e-9bfb-f41c44a36c96",
   "metadata": {},
   "outputs": [
    {
     "data": {
      "text/plain": [
       "1603"
      ]
     },
     "execution_count": 21,
     "metadata": {},
     "output_type": "execute_result"
    }
   ],
   "source": [
    "not_zero_count = (df[\"budget\"] != 0).sum()\n",
    "not_zero_count"
   ]
  },
  {
   "cell_type": "code",
   "execution_count": 22,
   "id": "5f23d97a-bbd0-4ed1-953c-fe0ffefe1c97",
   "metadata": {},
   "outputs": [
    {
     "name": "stdout",
     "output_type": "stream",
     "text": [
      "Numerical columns:\n",
      "Index(['id', 'vote_average', 'vote_count', 'revenue', 'runtime', 'budget',\n",
      "       'popularity'],\n",
      "      dtype='object')\n"
     ]
    }
   ],
   "source": [
    "numeric_cols = df.select_dtypes(include=['number']).columns\n",
    "print(\"Numerical columns:\")\n",
    "print(numeric_cols)\n"
   ]
  },
  {
   "cell_type": "code",
   "execution_count": 23,
   "id": "e9750329-bcd1-4612-8e6b-091a2d7e93b3",
   "metadata": {},
   "outputs": [
    {
     "name": "stdout",
     "output_type": "stream",
     "text": [
      "Zero's in id:\n",
      "0\n",
      "Zero's in vote_average:\n",
      "30789\n",
      "Zero's in vote_count:\n",
      "30779\n",
      "Zero's in revenue:\n",
      "50845\n",
      "Zero's in runtime:\n",
      "6301\n",
      "Zero's in budget:\n",
      "50342\n",
      "Zero's in popularity:\n",
      "963\n"
     ]
    }
   ],
   "source": [
    "for col in numeric_cols:\n",
    "    print(f\"Zero's in {col}:\")\n",
    "    zero_count = (df[col] == 0).sum()\n",
    "    print(zero_count)"
   ]
  },
  {
   "cell_type": "code",
   "execution_count": 24,
   "id": "b64b6665-d9c5-4699-a2dc-139fe7570740",
   "metadata": {},
   "outputs": [
    {
     "name": "stdout",
     "output_type": "stream",
     "text": [
      "The average vote is: 6.376700794100965\n",
      "The median vote is: 6.452500000000001\n"
     ]
    },
    {
     "data": {
      "image/png": "[encoded data removed]",
      "text/plain": [
       "<Figure size 1000x600 with 1 Axes>"
      ]
     },
     "metadata": {},
     "output_type": "display_data"
    }
   ],
   "source": [
    "# Filter out rows where vote_average is 0\n",
    "df_non_zero = df[df['vote_average'] != 0]\n",
    "\n",
    "# Calculate the average vote\n",
    "average_vote = df_non_zero['vote_average'].mean()\n",
    "print(\"The average vote is:\", average_vote)\n",
    "\n",
    "average_vote = df_non_zero['vote_average'].median()\n",
    "print(\"The median vote is:\", average_vote)\n",
    "\n",
    "# Create histogram for the distribution of vote_average without zeros\n",
    "plt.figure(figsize=(10, 6))\n",
    "plt.hist(df_non_zero['vote_average'].dropna(), bins=30, edgecolor='black')\n",
    "plt.title('Distribution of Vote Average (Excluding Zeros)')\n",
    "plt.xlabel('Vote Average')\n",
    "plt.ylabel('Count')\n",
    "\n",
    "# Save the figure in high quality (300 dpi)\n",
    "# plt.savefig(\"vote_average.png\", format=\"png\", dpi=300, bbox_inches='tight')\n",
    "# plt.show()\n",
    "\n",
    "plt.show()"
   ]
  },
  {
   "cell_type": "code",
   "execution_count": 25,
   "id": "2f9a80c1-4d24-44cd-8d5a-926a8a4c74cd",
   "metadata": {},
   "outputs": [
    {
     "data": {
      "text/plain": [
       "0                              Pixar, Walt Disney Pictures\n",
       "1                                                    Pixar\n",
       "2                                                    Pixar\n",
       "3                              Pixar, Walt Disney Pictures\n",
       "4                              Pixar, Walt Disney Pictures\n",
       "                               ...                        \n",
       "51940                                                  NaN\n",
       "51941    Benesse, Sony Music Direct, TOHO, The Answer S...\n",
       "51942                                                  NaN\n",
       "51943                                        Coronet Films\n",
       "51944                             Studio Neum, Zagreb Film\n",
       "Name: production_companies, Length: 51945, dtype: object"
      ]
     },
     "execution_count": 25,
     "metadata": {},
     "output_type": "execute_result"
    }
   ],
   "source": [
    "df['production_companies']"
   ]
  },
  {
   "cell_type": "code",
   "execution_count": 26,
   "id": "548bfadc-4299-445f-8236-00b909bc3cd8",
   "metadata": {},
   "outputs": [
    {
     "data": {
      "text/plain": [
       "3720"
      ]
     },
     "execution_count": 26,
     "metadata": {},
     "output_type": "execute_result"
    }
   ],
   "source": [
    "df['runtime'].max()"
   ]
  },
  {
   "cell_type": "code",
   "execution_count": 27,
   "id": "e86f5de4-a974-4a6b-9125-47b1c3fd2859",
   "metadata": {},
   "outputs": [
    {
     "data": {
      "text/plain": [
       "0         95\n",
       "1         96\n",
       "2        100\n",
       "3        105\n",
       "4         98\n",
       "        ... \n",
       "51940      0\n",
       "51941     60\n",
       "51942     22\n",
       "51943     12\n",
       "51944     10\n",
       "Name: runtime, Length: 51945, dtype: int64"
      ]
     },
     "execution_count": 27,
     "metadata": {},
     "output_type": "execute_result"
    }
   ],
   "source": [
    "df['runtime'] "
   ]
  },
  {
   "cell_type": "code",
   "execution_count": 28,
   "id": "ae474320-f693-4b50-8b75-6e2fd48e82fe",
   "metadata": {},
   "outputs": [
    {
     "data": {
      "text/plain": [
       "0"
      ]
     },
     "execution_count": 28,
     "metadata": {},
     "output_type": "execute_result"
    }
   ],
   "source": [
    "df['runtime'].min()"
   ]
  },
  {
   "cell_type": "code",
   "execution_count": 29,
   "id": "dea7f3f6-c281-4f7a-a0ee-70221c7cc168",
   "metadata": {},
   "outputs": [
    {
     "name": "stdout",
     "output_type": "stream",
     "text": [
      "runtime\n",
      "0     6301\n",
      "7     4498\n",
      "6     4208\n",
      "3     3029\n",
      "5     2998\n",
      "4     2916\n",
      "8     2459\n",
      "2     2317\n",
      "10    1968\n",
      "1     1918\n",
      "Name: count, dtype: int64\n"
     ]
    }
   ],
   "source": [
    "runtime_counts = df['runtime'].value_counts()\n",
    "print(runtime_counts.head(10))  # "
   ]
  },
  {
   "cell_type": "code",
   "execution_count": 30,
   "id": "34ee4d41-69dc-4e3a-9cdb-607fe6f5af11",
   "metadata": {},
   "outputs": [
    {
     "name": "stdout",
     "output_type": "stream",
     "text": [
      "Movies left:\n",
      "8062\n",
      "The average runtime is: 82.90014884644009\n"
     ]
    },
    {
     "data": {
      "image/png": "[encoded data removed]",
      "text/plain": [
       "<Figure size 1000x600 with 1 Axes>"
      ]
     },
     "metadata": {},
     "output_type": "display_data"
    }
   ],
   "source": [
    "# Filter out rows \n",
    "df_filtered = df[(df['runtime'] != 0) & (df['runtime'] <= 200) & (df['runtime'] >= 50)]\n",
    "\n",
    "print(\"Movies left:\")\n",
    "print(len(df_filtered))\n",
    "\n",
    "average_runtime = df_filtered['runtime'].mean()\n",
    "print(\"The average runtime is:\", average_runtime)\n",
    "\n",
    "plt.figure(figsize=(10, 6))\n",
    "plt.hist(df_filtered['runtime'].dropna(), bins=30, edgecolor='black')\n",
    "plt.title('Distribution of Runtime (Excluding Zeros and <200 mins and >50 mins)')\n",
    "plt.xlabel('Runtime (minutes)')\n",
    "plt.ylabel('Count')\n",
    "\n",
    "# Save the figure in high quality (300 dpi)\n",
    "# plt.savefig(\"runtime_distribution.png\", format=\"png\", dpi=300, bbox_inches='tight')\n",
    "# plt.show()\n",
    "\n",
    "plt.show()"
   ]
  }
 ],
 "metadata": {
  "kernelspec": {
   "display_name": "Python 3",
   "language": "python",
   "name": "python3"
  },
  "language_info": {
   "codemirror_mode": {
    "name": "ipython",
    "version": 3
   },
   "file_extension": ".py",
   "mimetype": "text/x-python",
   "name": "python",
   "nbconvert_exporter": "python",
   "pygments_lexer": "ipython3",
   "version": "3.11.4"
  }
 },
 "nbformat": 4,
 "nbformat_minor": 5
}
