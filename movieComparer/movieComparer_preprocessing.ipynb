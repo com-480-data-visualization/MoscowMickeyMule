{
 "cells": [
  {
   "cell_type": "code",
   "execution_count": 1,
   "id": "328b4d03-9797-4950-a903-544b5702eb31",
   "metadata": {},
   "outputs": [],
   "source": [
    "import pandas as pd\n",
    "import numpy as np\n",
    "import seaborn as sns\n",
    "import matplotlib.pyplot as plt"
   ]
  },
  {
   "cell_type": "markdown",
   "id": "45c6a45a-8f97-41df-b155-20fefd5729d4",
   "metadata": {},
   "source": [
    "**Exploratory Analysis of Animation Studio Dataset**\n"
   ]
  },
  {
   "cell_type": "code",
   "execution_count": 2,
   "id": "699078c1-f67a-4099-b8c2-7506b8f362a7",
   "metadata": {},
   "outputs": [],
   "source": [
    "df = pd.read_csv(\"/Users/michaelburch/Desktop/EPFL/Data_Visualization/Project/MoscowMickeyMule/data/Animation_Movies.csv\")"
   ]
  },
  {
   "cell_type": "code",
   "execution_count": 3,
   "id": "1632b339-2440-4218-8761-4c931b34d3b3",
   "metadata": {},
   "outputs": [
    {
     "data": {
      "text/html": [
       "<div>\n",
       "<style scoped>\n",
       "    .dataframe tbody tr th:only-of-type {\n",
       "        vertical-align: middle;\n",
       "    }\n",
       "\n",
       "    .dataframe tbody tr th {\n",
       "        vertical-align: top;\n",
       "    }\n",
       "\n",
       "    .dataframe thead th {\n",
       "        text-align: right;\n",
       "    }\n",
       "</style>\n",
       "<table border=\"1\" class=\"dataframe\">\n",
       "  <thead>\n",
       "    <tr style=\"text-align: right;\">\n",
       "      <th></th>\n",
       "      <th>id</th>\n",
       "      <th>title</th>\n",
       "      <th>vote_average</th>\n",
       "      <th>vote_count</th>\n",
       "      <th>status</th>\n",
       "      <th>release_date</th>\n",
       "      <th>revenue</th>\n",
       "      <th>runtime</th>\n",
       "      <th>adult</th>\n",
       "      <th>backdrop_path</th>\n",
       "      <th>...</th>\n",
       "      <th>original_language</th>\n",
       "      <th>original_title</th>\n",
       "      <th>overview</th>\n",
       "      <th>popularity</th>\n",
       "      <th>poster_path</th>\n",
       "      <th>tagline</th>\n",
       "      <th>genres</th>\n",
       "      <th>production_companies</th>\n",
       "      <th>production_countries</th>\n",
       "      <th>spoken_languages</th>\n",
       "    </tr>\n",
       "  </thead>\n",
       "  <tbody>\n",
       "    <tr>\n",
       "      <th>0</th>\n",
       "      <td>150540</td>\n",
       "      <td>Inside Out</td>\n",
       "      <td>7.922</td>\n",
       "      <td>19463</td>\n",
       "      <td>Released</td>\n",
       "      <td>2015-06-09</td>\n",
       "      <td>857611174</td>\n",
       "      <td>95</td>\n",
       "      <td>False</td>\n",
       "      <td>/j29ekbcLpBvxnGk6LjdTc2EI5SA.jpg</td>\n",
       "      <td>...</td>\n",
       "      <td>en</td>\n",
       "      <td>Inside Out</td>\n",
       "      <td>Growing up can be a bumpy road, and it's no ex...</td>\n",
       "      <td>107.292</td>\n",
       "      <td>/2H1TmgdfNtsKlU9jKdeNyYL5y8T.jpg</td>\n",
       "      <td>Meet the little voices inside your head.</td>\n",
       "      <td>Animation, Family, Adventure, Drama, Comedy</td>\n",
       "      <td>Pixar, Walt Disney Pictures</td>\n",
       "      <td>United States of America</td>\n",
       "      <td>English</td>\n",
       "    </tr>\n",
       "  </tbody>\n",
       "</table>\n",
       "<p>1 rows × 23 columns</p>\n",
       "</div>"
      ],
      "text/plain": [
       "       id       title  vote_average  vote_count    status release_date  \\\n",
       "0  150540  Inside Out         7.922       19463  Released   2015-06-09   \n",
       "\n",
       "     revenue  runtime  adult                     backdrop_path  ...  \\\n",
       "0  857611174       95  False  /j29ekbcLpBvxnGk6LjdTc2EI5SA.jpg  ...   \n",
       "\n",
       "   original_language original_title  \\\n",
       "0                 en     Inside Out   \n",
       "\n",
       "                                            overview popularity  \\\n",
       "0  Growing up can be a bumpy road, and it's no ex...    107.292   \n",
       "\n",
       "                        poster_path                                   tagline  \\\n",
       "0  /2H1TmgdfNtsKlU9jKdeNyYL5y8T.jpg  Meet the little voices inside your head.   \n",
       "\n",
       "                                        genres         production_companies  \\\n",
       "0  Animation, Family, Adventure, Drama, Comedy  Pixar, Walt Disney Pictures   \n",
       "\n",
       "       production_countries spoken_languages  \n",
       "0  United States of America          English  \n",
       "\n",
       "[1 rows x 23 columns]"
      ]
     },
     "execution_count": 3,
     "metadata": {},
     "output_type": "execute_result"
    }
   ],
   "source": [
    "df.head(1)"
   ]
  },
  {
   "cell_type": "code",
   "execution_count": 4,
   "id": "84ce4760",
   "metadata": {},
   "outputs": [
    {
     "data": {
      "text/plain": [
       "Index(['id', 'title', 'vote_average', 'vote_count', 'status', 'release_date',\n",
       "       'revenue', 'runtime', 'adult', 'backdrop_path', 'budget', 'homepage',\n",
       "       'imdb_id', 'original_language', 'original_title', 'overview',\n",
       "       'popularity', 'poster_path', 'tagline', 'genres',\n",
       "       'production_companies', 'production_countries', 'spoken_languages'],\n",
       "      dtype='object')"
      ]
     },
     "execution_count": 4,
     "metadata": {},
     "output_type": "execute_result"
    }
   ],
   "source": [
    "df.columns"
   ]
  },
  {
   "cell_type": "code",
   "execution_count": 5,
   "id": "5bddbe71-c544-49ef-a809-03f687766e8d",
   "metadata": {},
   "outputs": [
    {
     "data": {
      "text/plain": [
       "51945"
      ]
     },
     "execution_count": 5,
     "metadata": {},
     "output_type": "execute_result"
    }
   ],
   "source": [
    "len(df)"
   ]
  },
  {
   "cell_type": "code",
   "execution_count": null,
   "id": "b7717481-b8a2-45a9-857f-36a2cb64e2fe",
   "metadata": {},
   "outputs": [
    {
     "data": {
      "text/plain": [
       "(51945, 23)"
      ]
     },
     "execution_count": 65,
     "metadata": {},
     "output_type": "execute_result"
    }
   ],
   "source": [
    "df.shape"
   ]
  },
  {
   "cell_type": "code",
   "execution_count": 11,
   "id": "8375487a",
   "metadata": {},
   "outputs": [
    {
     "data": {
      "text/plain": [
       "0        107.292\n",
       "1         90.968\n",
       "2         55.456\n",
       "3        166.578\n",
       "4         58.517\n",
       "          ...   \n",
       "51940      0.600\n",
       "51941      2.531\n",
       "51942      1.952\n",
       "51943      0.600\n",
       "51944      0.600\n",
       "Name: popularity, Length: 51945, dtype: float64"
      ]
     },
     "execution_count": 11,
     "metadata": {},
     "output_type": "execute_result"
    }
   ],
   "source": [
    "df[\"popularity\"]"
   ]
  },
  {
   "cell_type": "code",
   "execution_count": 9,
   "id": "65bc6188",
   "metadata": {},
   "outputs": [],
   "source": [
    "df_2 = df[[\"title\",\"vote_average\",\"release_date\",\"revenue\",\"runtime\",\"budget\",\"genres\"]]"
   ]
  },
  {
   "cell_type": "code",
   "execution_count": 10,
   "id": "c89ace37",
   "metadata": {},
   "outputs": [
    {
     "data": {
      "text/html": [
       "<div>\n",
       "<style scoped>\n",
       "    .dataframe tbody tr th:only-of-type {\n",
       "        vertical-align: middle;\n",
       "    }\n",
       "\n",
       "    .dataframe tbody tr th {\n",
       "        vertical-align: top;\n",
       "    }\n",
       "\n",
       "    .dataframe thead th {\n",
       "        text-align: right;\n",
       "    }\n",
       "</style>\n",
       "<table border=\"1\" class=\"dataframe\">\n",
       "  <thead>\n",
       "    <tr style=\"text-align: right;\">\n",
       "      <th></th>\n",
       "      <th>title</th>\n",
       "      <th>vote_average</th>\n",
       "      <th>release_date</th>\n",
       "      <th>revenue</th>\n",
       "      <th>runtime</th>\n",
       "      <th>budget</th>\n",
       "      <th>genres</th>\n",
       "    </tr>\n",
       "  </thead>\n",
       "  <tbody>\n",
       "    <tr>\n",
       "      <th>0</th>\n",
       "      <td>Inside Out</td>\n",
       "      <td>7.922</td>\n",
       "      <td>2015-06-09</td>\n",
       "      <td>857611174</td>\n",
       "      <td>95</td>\n",
       "      <td>175000000</td>\n",
       "      <td>Animation, Family, Adventure, Drama, Comedy</td>\n",
       "    </tr>\n",
       "    <tr>\n",
       "      <th>1</th>\n",
       "      <td>Up</td>\n",
       "      <td>7.949</td>\n",
       "      <td>2009-05-28</td>\n",
       "      <td>735099082</td>\n",
       "      <td>96</td>\n",
       "      <td>175000000</td>\n",
       "      <td>Animation, Comedy, Family, Adventure</td>\n",
       "    </tr>\n",
       "    <tr>\n",
       "      <th>2</th>\n",
       "      <td>Finding Nemo</td>\n",
       "      <td>7.824</td>\n",
       "      <td>2003-05-30</td>\n",
       "      <td>940335536</td>\n",
       "      <td>100</td>\n",
       "      <td>94000000</td>\n",
       "      <td>Animation, Family</td>\n",
       "    </tr>\n",
       "    <tr>\n",
       "      <th>3</th>\n",
       "      <td>Coco</td>\n",
       "      <td>8.222</td>\n",
       "      <td>2017-10-27</td>\n",
       "      <td>800526015</td>\n",
       "      <td>105</td>\n",
       "      <td>175000000</td>\n",
       "      <td>Family, Animation, Fantasy, Music, Comedy, Adv...</td>\n",
       "    </tr>\n",
       "    <tr>\n",
       "      <th>4</th>\n",
       "      <td>WALL·E</td>\n",
       "      <td>8.078</td>\n",
       "      <td>2008-06-22</td>\n",
       "      <td>521311860</td>\n",
       "      <td>98</td>\n",
       "      <td>180000000</td>\n",
       "      <td>Animation, Family, Science Fiction</td>\n",
       "    </tr>\n",
       "  </tbody>\n",
       "</table>\n",
       "</div>"
      ],
      "text/plain": [
       "          title  vote_average release_date    revenue  runtime     budget  \\\n",
       "0    Inside Out         7.922   2015-06-09  857611174       95  175000000   \n",
       "1            Up         7.949   2009-05-28  735099082       96  175000000   \n",
       "2  Finding Nemo         7.824   2003-05-30  940335536      100   94000000   \n",
       "3          Coco         8.222   2017-10-27  800526015      105  175000000   \n",
       "4        WALL·E         8.078   2008-06-22  521311860       98  180000000   \n",
       "\n",
       "                                              genres  \n",
       "0        Animation, Family, Adventure, Drama, Comedy  \n",
       "1               Animation, Comedy, Family, Adventure  \n",
       "2                                  Animation, Family  \n",
       "3  Family, Animation, Fantasy, Music, Comedy, Adv...  \n",
       "4                 Animation, Family, Science Fiction  "
      ]
     },
     "execution_count": 10,
     "metadata": {},
     "output_type": "execute_result"
    }
   ],
   "source": [
    "df_2.head()"
   ]
  },
  {
   "cell_type": "code",
   "execution_count": 12,
   "id": "099fe98a",
   "metadata": {},
   "outputs": [
    {
     "data": {
      "text/plain": [
       "(51945, 7)"
      ]
     },
     "execution_count": 12,
     "metadata": {},
     "output_type": "execute_result"
    }
   ],
   "source": [
    "df_2.shape"
   ]
  },
  {
   "cell_type": "code",
   "execution_count": 13,
   "id": "2b2776ee",
   "metadata": {},
   "outputs": [],
   "source": [
    "df_3 = df_2.dropna()"
   ]
  },
  {
   "cell_type": "code",
   "execution_count": 14,
   "id": "488986f1",
   "metadata": {},
   "outputs": [
    {
     "data": {
      "text/plain": [
       "(49807, 7)"
      ]
     },
     "execution_count": 14,
     "metadata": {},
     "output_type": "execute_result"
    }
   ],
   "source": [
    "df_3.shape"
   ]
  },
  {
   "cell_type": "code",
   "execution_count": 15,
   "id": "bbc8b034",
   "metadata": {},
   "outputs": [
    {
     "data": {
      "text/html": [
       "<div>\n",
       "<style scoped>\n",
       "    .dataframe tbody tr th:only-of-type {\n",
       "        vertical-align: middle;\n",
       "    }\n",
       "\n",
       "    .dataframe tbody tr th {\n",
       "        vertical-align: top;\n",
       "    }\n",
       "\n",
       "    .dataframe thead th {\n",
       "        text-align: right;\n",
       "    }\n",
       "</style>\n",
       "<table border=\"1\" class=\"dataframe\">\n",
       "  <thead>\n",
       "    <tr style=\"text-align: right;\">\n",
       "      <th></th>\n",
       "      <th>title</th>\n",
       "      <th>vote_average</th>\n",
       "      <th>release_date</th>\n",
       "      <th>revenue</th>\n",
       "      <th>runtime</th>\n",
       "      <th>budget</th>\n",
       "      <th>genres</th>\n",
       "    </tr>\n",
       "  </thead>\n",
       "  <tbody>\n",
       "    <tr>\n",
       "      <th>0</th>\n",
       "      <td>Inside Out</td>\n",
       "      <td>7.922</td>\n",
       "      <td>2015-06-09</td>\n",
       "      <td>857611174</td>\n",
       "      <td>95</td>\n",
       "      <td>175000000</td>\n",
       "      <td>Animation, Family, Adventure, Drama, Comedy</td>\n",
       "    </tr>\n",
       "    <tr>\n",
       "      <th>1</th>\n",
       "      <td>Up</td>\n",
       "      <td>7.949</td>\n",
       "      <td>2009-05-28</td>\n",
       "      <td>735099082</td>\n",
       "      <td>96</td>\n",
       "      <td>175000000</td>\n",
       "      <td>Animation, Comedy, Family, Adventure</td>\n",
       "    </tr>\n",
       "    <tr>\n",
       "      <th>2</th>\n",
       "      <td>Finding Nemo</td>\n",
       "      <td>7.824</td>\n",
       "      <td>2003-05-30</td>\n",
       "      <td>940335536</td>\n",
       "      <td>100</td>\n",
       "      <td>94000000</td>\n",
       "      <td>Animation, Family</td>\n",
       "    </tr>\n",
       "    <tr>\n",
       "      <th>3</th>\n",
       "      <td>Coco</td>\n",
       "      <td>8.222</td>\n",
       "      <td>2017-10-27</td>\n",
       "      <td>800526015</td>\n",
       "      <td>105</td>\n",
       "      <td>175000000</td>\n",
       "      <td>Family, Animation, Fantasy, Music, Comedy, Adv...</td>\n",
       "    </tr>\n",
       "    <tr>\n",
       "      <th>4</th>\n",
       "      <td>WALL·E</td>\n",
       "      <td>8.078</td>\n",
       "      <td>2008-06-22</td>\n",
       "      <td>521311860</td>\n",
       "      <td>98</td>\n",
       "      <td>180000000</td>\n",
       "      <td>Animation, Family, Science Fiction</td>\n",
       "    </tr>\n",
       "  </tbody>\n",
       "</table>\n",
       "</div>"
      ],
      "text/plain": [
       "          title  vote_average release_date    revenue  runtime     budget  \\\n",
       "0    Inside Out         7.922   2015-06-09  857611174       95  175000000   \n",
       "1            Up         7.949   2009-05-28  735099082       96  175000000   \n",
       "2  Finding Nemo         7.824   2003-05-30  940335536      100   94000000   \n",
       "3          Coco         8.222   2017-10-27  800526015      105  175000000   \n",
       "4        WALL·E         8.078   2008-06-22  521311860       98  180000000   \n",
       "\n",
       "                                              genres  \n",
       "0        Animation, Family, Adventure, Drama, Comedy  \n",
       "1               Animation, Comedy, Family, Adventure  \n",
       "2                                  Animation, Family  \n",
       "3  Family, Animation, Fantasy, Music, Comedy, Adv...  \n",
       "4                 Animation, Family, Science Fiction  "
      ]
     },
     "execution_count": 15,
     "metadata": {},
     "output_type": "execute_result"
    }
   ],
   "source": [
    "df_3.head()"
   ]
  },
  {
   "cell_type": "code",
   "execution_count": 16,
   "id": "14fcd70d",
   "metadata": {},
   "outputs": [],
   "source": [
    "# Save the dataset as csv\n",
    "df_3.to_csv('/Users/michaelburch/Desktop/EPFL/Data_Visualization/Project/MoscowMickeyMule/movieComparer/movieComparer_df.csv', index=False)"
   ]
  },
  {
   "cell_type": "markdown",
   "id": "de1dd2e7-b2df-4834-8369-2a6bbc099c4c",
   "metadata": {},
   "source": [
    "**Basic Statistics**\n"
   ]
  },
  {
   "cell_type": "code",
   "execution_count": 11,
   "id": "3f0c1bba-5706-4a1a-9569-8271bfe6820c",
   "metadata": {},
   "outputs": [
    {
     "name": "stdout",
     "output_type": "stream",
     "text": [
      "Basic Statistics:\n",
      "                  id                   title  vote_average    vote_count  \\\n",
      "count   5.194500e+04                   51944  51945.000000  51945.000000   \n",
      "unique           NaN                   49381           NaN           NaN   \n",
      "top              NaN  Little Red Riding Hood           NaN           NaN   \n",
      "freq             NaN                      15           NaN           NaN   \n",
      "mean    6.188122e+05                     NaN      2.597083     40.395380   \n",
      "std     3.479748e+05                     NaN      3.318748    482.705948   \n",
      "min     1.200000e+01                     NaN      0.000000      0.000000   \n",
      "25%     3.300810e+05                     NaN      0.000000      0.000000   \n",
      "50%     6.119150e+05                     NaN      0.000000      0.000000   \n",
      "75%     9.159040e+05                     NaN      6.000000      2.000000   \n",
      "max     1.238314e+06                     NaN     10.000000  19463.000000   \n",
      "\n",
      "          status release_date       revenue       runtime  adult  \\\n",
      "count      51945        49808  5.194500e+04  51945.000000  51945   \n",
      "unique         6        16893           NaN           NaN      2   \n",
      "top     Released   2017-01-01           NaN           NaN  False   \n",
      "freq       51134          291           NaN           NaN  51719   \n",
      "mean         NaN          NaN  1.863464e+06     20.901415    NaN   \n",
      "std          NaN          NaN  3.049824e+07     39.016002    NaN   \n",
      "min          NaN          NaN  0.000000e+00      0.000000    NaN   \n",
      "25%          NaN          NaN  0.000000e+00      3.000000    NaN   \n",
      "50%          NaN          NaN  0.000000e+00      7.000000    NaN   \n",
      "75%          NaN          NaN  0.000000e+00     19.000000    NaN   \n",
      "max          NaN          NaN  1.450027e+09   3720.000000    NaN   \n",
      "\n",
      "                           backdrop_path  ...  original_language  \\\n",
      "count                              15835  ...              51945   \n",
      "unique                             15731  ...                102   \n",
      "top     /7tFOLDhZqKPactVlGfdjgVmYnlu.jpg  ...                 en   \n",
      "freq                                  17  ...              28584   \n",
      "mean                                 NaN  ...                NaN   \n",
      "std                                  NaN  ...                NaN   \n",
      "min                                  NaN  ...                NaN   \n",
      "25%                                  NaN  ...                NaN   \n",
      "50%                                  NaN  ...                NaN   \n",
      "75%                                  NaN  ...                NaN   \n",
      "max                                  NaN  ...                NaN   \n",
      "\n",
      "       original_title                         overview    popularity  \\\n",
      "count           51944                            45866  51945.000000   \n",
      "unique          50318                            44907           NaN   \n",
      "top     Metamorphosis  An Aesop’s Film Fables cartoon.           NaN   \n",
      "freq                9                               71           NaN   \n",
      "mean              NaN                              NaN      1.886233   \n",
      "std               NaN                              NaN      9.700913   \n",
      "min               NaN                              NaN      0.000000   \n",
      "25%               NaN                              NaN      0.600000   \n",
      "50%               NaN                              NaN      0.600000   \n",
      "75%               NaN                              NaN      0.882000   \n",
      "max               NaN                              NaN   1008.942000   \n",
      "\n",
      "                             poster_path          tagline     genres  \\\n",
      "count                              37934             4678      51945   \n",
      "unique                             37819             4451       2649   \n",
      "top     /tVRb7CCGuru9RdG1ikGFCceuegy.jpg  animation short  Animation   \n",
      "freq                                  12              104      28393   \n",
      "mean                                 NaN              NaN        NaN   \n",
      "std                                  NaN              NaN        NaN   \n",
      "min                                  NaN              NaN        NaN   \n",
      "25%                                  NaN              NaN        NaN   \n",
      "50%                                  NaN              NaN        NaN   \n",
      "75%                                  NaN              NaN        NaN   \n",
      "max                                  NaN              NaN        NaN   \n",
      "\n",
      "       production_companies      production_countries spoken_languages  \n",
      "count                 29398                     39700            33818  \n",
      "unique                11196                      1096              617  \n",
      "top               ONF | NFB  United States of America          English  \n",
      "freq                    717                     12836            12005  \n",
      "mean                    NaN                       NaN              NaN  \n",
      "std                     NaN                       NaN              NaN  \n",
      "min                     NaN                       NaN              NaN  \n",
      "25%                     NaN                       NaN              NaN  \n",
      "50%                     NaN                       NaN              NaN  \n",
      "75%                     NaN                       NaN              NaN  \n",
      "max                     NaN                       NaN              NaN  \n",
      "\n",
      "[11 rows x 23 columns]\n"
     ]
    }
   ],
   "source": [
    "print(\"Basic Statistics:\")\n",
    "print(df.describe(include='all'))"
   ]
  },
  {
   "cell_type": "code",
   "execution_count": 12,
   "id": "9db5dea7-3514-44e8-b583-0b32dddfd105",
   "metadata": {},
   "outputs": [
    {
     "name": "stdout",
     "output_type": "stream",
     "text": [
      "\n",
      "Missing Values:\n",
      "id                          0\n",
      "title                       1\n",
      "vote_average                0\n",
      "vote_count                  0\n",
      "status                      0\n",
      "release_date             2137\n",
      "revenue                     0\n",
      "runtime                     0\n",
      "adult                       0\n",
      "backdrop_path           36110\n",
      "budget                      0\n",
      "homepage                43692\n",
      "imdb_id                 22393\n",
      "original_language           0\n",
      "original_title              1\n",
      "overview                 6079\n",
      "popularity                  0\n",
      "poster_path             14011\n",
      "tagline                 47267\n",
      "genres                      0\n",
      "production_companies    22547\n",
      "production_countries    12245\n",
      "spoken_languages        18127\n",
      "dtype: int64\n"
     ]
    }
   ],
   "source": [
    "# Check for missing values in each column\n",
    "print(\"\\nMissing Values:\")\n",
    "print(df.isnull().sum())"
   ]
  },
  {
   "cell_type": "code",
   "execution_count": 22,
   "id": "0dbcec9a-6069-4636-aed0-bca1dfcbc9a2",
   "metadata": {},
   "outputs": [
    {
     "data": {
      "text/plain": [
       "0"
      ]
     },
     "execution_count": 22,
     "metadata": {},
     "output_type": "execute_result"
    }
   ],
   "source": [
    "df[\"budget\"].iloc[-1]"
   ]
  },
  {
   "cell_type": "code",
   "execution_count": 23,
   "id": "51f32c21-ef51-468e-9d89-8337db7c0149",
   "metadata": {},
   "outputs": [
    {
     "data": {
      "text/plain": [
       "numpy.int64"
      ]
     },
     "execution_count": 23,
     "metadata": {},
     "output_type": "execute_result"
    }
   ],
   "source": [
    "type(df[\"budget\"].iloc[-1])"
   ]
  },
  {
   "cell_type": "code",
   "execution_count": 26,
   "id": "570367e9-373f-48e8-a3cc-8b6e8152a731",
   "metadata": {},
   "outputs": [
    {
     "data": {
      "text/plain": [
       "50342"
      ]
     },
     "execution_count": 26,
     "metadata": {},
     "output_type": "execute_result"
    }
   ],
   "source": [
    "zero_count = (df[\"budget\"] == 0).sum()\n",
    "zero_count"
   ]
  },
  {
   "cell_type": "code",
   "execution_count": 27,
   "id": "333e30b7-d69c-460e-9bfb-f41c44a36c96",
   "metadata": {},
   "outputs": [
    {
     "data": {
      "text/plain": [
       "1603"
      ]
     },
     "execution_count": 27,
     "metadata": {},
     "output_type": "execute_result"
    }
   ],
   "source": [
    "not_zero_count = (df[\"budget\"] != 0).sum()\n",
    "not_zero_count"
   ]
  },
  {
   "cell_type": "code",
   "execution_count": 29,
   "id": "5f23d97a-bbd0-4ed1-953c-fe0ffefe1c97",
   "metadata": {},
   "outputs": [
    {
     "name": "stdout",
     "output_type": "stream",
     "text": [
      "Numerical columns:\n",
      "Index(['id', 'vote_average', 'vote_count', 'revenue', 'runtime', 'budget',\n",
      "       'popularity'],\n",
      "      dtype='object')\n"
     ]
    }
   ],
   "source": [
    "numeric_cols = df.select_dtypes(include=['number']).columns\n",
    "print(\"Numerical columns:\")\n",
    "print(numeric_cols)\n"
   ]
  },
  {
   "cell_type": "code",
   "execution_count": 32,
   "id": "e9750329-bcd1-4612-8e6b-091a2d7e93b3",
   "metadata": {},
   "outputs": [
    {
     "name": "stdout",
     "output_type": "stream",
     "text": [
      "Zero's in id:\n",
      "0\n",
      "Zero's in vote_average:\n",
      "30789\n",
      "Zero's in vote_count:\n",
      "30779\n",
      "Zero's in revenue:\n",
      "50845\n",
      "Zero's in runtime:\n",
      "6301\n",
      "Zero's in budget:\n",
      "50342\n",
      "Zero's in popularity:\n",
      "963\n"
     ]
    }
   ],
   "source": [
    "for col in numeric_cols:\n",
    "    print(f\"Zero's in {col}:\")\n",
    "    zero_count = (df[col] == 0).sum()\n",
    "    print(zero_count)"
   ]
  },
  {
   "cell_type": "code",
   "execution_count": 63,
   "id": "b64b6665-d9c5-4699-a2dc-139fe7570740",
   "metadata": {},
   "outputs": [
    {
     "name": "stdout",
     "output_type": "stream",
     "text": [
      "The average vote is: 6.376700794100965\n",
      "The median vote is: 6.452500000000001\n"
     ]
    },
    {
     "data": {
      "image/png": "[encoded data removed]",
      "text/plain": [
       "<Figure size 720x432 with 1 Axes>"
      ]
     },
     "metadata": {
      "needs_background": "light"
     },
     "output_type": "display_data"
    }
   ],
   "source": [
    "# Filter out rows where vote_average is 0\n",
    "df_non_zero = df[df['vote_average'] != 0]\n",
    "\n",
    "# Calculate the average vote\n",
    "average_vote = df_non_zero['vote_average'].mean()\n",
    "print(\"The average vote is:\", average_vote)\n",
    "\n",
    "average_vote = df_non_zero['vote_average'].median()\n",
    "print(\"The median vote is:\", average_vote)\n",
    "\n",
    "# Create histogram for the distribution of vote_average without zeros\n",
    "plt.figure(figsize=(10, 6))\n",
    "plt.hist(df_non_zero['vote_average'].dropna(), bins=30, edgecolor='black')\n",
    "plt.title('Distribution of Vote Average (Excluding Zeros)')\n",
    "plt.xlabel('Vote Average')\n",
    "plt.ylabel('Count')\n",
    "\n",
    "# Save the figure in high quality (300 dpi)\n",
    "# plt.savefig(\"vote_average.png\", format=\"png\", dpi=300, bbox_inches='tight')\n",
    "# plt.show()\n",
    "\n",
    "plt.show()"
   ]
  },
  {
   "cell_type": "code",
   "execution_count": 43,
   "id": "2f9a80c1-4d24-44cd-8d5a-926a8a4c74cd",
   "metadata": {},
   "outputs": [
    {
     "data": {
      "text/plain": [
       "0                              Pixar, Walt Disney Pictures\n",
       "1                                                    Pixar\n",
       "2                                                    Pixar\n",
       "3                              Pixar, Walt Disney Pictures\n",
       "4                              Pixar, Walt Disney Pictures\n",
       "                               ...                        \n",
       "51940                                                  NaN\n",
       "51941    Benesse, Sony Music Direct, TOHO, The Answer S...\n",
       "51942                                                  NaN\n",
       "51943                                        Coronet Films\n",
       "51944                             Studio Neum, Zagreb Film\n",
       "Name: production_companies, Length: 51945, dtype: object"
      ]
     },
     "execution_count": 43,
     "metadata": {},
     "output_type": "execute_result"
    }
   ],
   "source": [
    "df['production_companies']"
   ]
  },
  {
   "cell_type": "code",
   "execution_count": 48,
   "id": "548bfadc-4299-445f-8236-00b909bc3cd8",
   "metadata": {},
   "outputs": [
    {
     "data": {
      "text/plain": [
       "3720"
      ]
     },
     "execution_count": 48,
     "metadata": {},
     "output_type": "execute_result"
    }
   ],
   "source": [
    "df['runtime'].max()"
   ]
  },
  {
   "cell_type": "code",
   "execution_count": null,
   "id": "e86f5de4-a974-4a6b-9125-47b1c3fd2859",
   "metadata": {},
   "outputs": [],
   "source": [
    "df['runtime'] "
   ]
  },
  {
   "cell_type": "code",
   "execution_count": 49,
   "id": "ae474320-f693-4b50-8b75-6e2fd48e82fe",
   "metadata": {},
   "outputs": [
    {
     "data": {
      "text/plain": [
       "0"
      ]
     },
     "execution_count": 49,
     "metadata": {},
     "output_type": "execute_result"
    }
   ],
   "source": [
    "df['runtime'].min()"
   ]
  },
  {
   "cell_type": "code",
   "execution_count": 52,
   "id": "dea7f3f6-c281-4f7a-a0ee-70221c7cc168",
   "metadata": {},
   "outputs": [
    {
     "name": "stdout",
     "output_type": "stream",
     "text": [
      "0     6301\n",
      "7     4498\n",
      "6     4208\n",
      "3     3029\n",
      "5     2998\n",
      "4     2916\n",
      "8     2459\n",
      "2     2317\n",
      "10    1968\n",
      "1     1918\n",
      "Name: runtime, dtype: int64\n"
     ]
    }
   ],
   "source": [
    "runtime_counts = df['runtime'].value_counts()\n",
    "print(runtime_counts.head(10))  # "
   ]
  },
  {
   "cell_type": "code",
   "execution_count": 64,
   "id": "34ee4d41-69dc-4e3a-9cdb-607fe6f5af11",
   "metadata": {},
   "outputs": [
    {
     "name": "stdout",
     "output_type": "stream",
     "text": [
      "Movies left:\n",
      "8062\n",
      "The average runtime is: 82.90014884644009\n"
     ]
    },
    {
     "data": {
      "image/png": "[encoded data removed]",
      "text/plain": [
       "<Figure size 720x432 with 1 Axes>"
      ]
     },
     "metadata": {
      "needs_background": "light"
     },
     "output_type": "display_data"
    }
   ],
   "source": [
    "# Filter out rows \n",
    "df_filtered = df[(df['runtime'] != 0) & (df['runtime'] <= 200) & (df['runtime'] >= 50)]\n",
    "\n",
    "print(\"Movies left:\")\n",
    "print(len(df_filtered))\n",
    "\n",
    "average_runtime = df_filtered['runtime'].mean()\n",
    "print(\"The average runtime is:\", average_runtime)\n",
    "\n",
    "plt.figure(figsize=(10, 6))\n",
    "plt.hist(df_filtered['runtime'].dropna(), bins=30, edgecolor='black')\n",
    "plt.title('Distribution of Runtime (Excluding Zeros and <200 mins and >50 mins)')\n",
    "plt.xlabel('Runtime (minutes)')\n",
    "plt.ylabel('Count')\n",
    "\n",
    "# Save the figure in high quality (300 dpi)\n",
    "# plt.savefig(\"runtime_distribution.png\", format=\"png\", dpi=300, bbox_inches='tight')\n",
    "# plt.show()\n",
    "\n",
    "plt.show()"
   ]
  }
 ],
 "metadata": {
  "kernelspec": {
   "display_name": "base",
   "language": "python",
   "name": "python3"
  },
  "language_info": {
   "codemirror_mode": {
    "name": "ipython",
    "version": 3
   },
   "file_extension": ".py",
   "mimetype": "text/x-python",
   "name": "python",
   "nbconvert_exporter": "python",
   "pygments_lexer": "ipython3",
   "version": "3.9.12"
  }
 },
 "nbformat": 4,
 "nbformat_minor": 5
}
